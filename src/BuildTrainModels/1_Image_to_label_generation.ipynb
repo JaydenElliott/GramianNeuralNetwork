{
 "cells": [
  {
   "cell_type": "code",
   "execution_count": 103,
   "metadata": {},
   "outputs": [],
   "source": [
    "import numpy as np\n",
    "import matplotlib.pyplot as plt\n",
    "import pandas as pd\n",
    "import matplotlib.pyplot as plt\n",
    "import scipy.signal as sc\n",
    "import os\n",
    "\n",
    "import talib\n",
    "from talib import SMA\n",
    "\n",
    "\n",
    "import matplotlib.pyplot as plt\n",
    "from mpl_toolkits.axes_grid1 import ImageGrid\n",
    "from pyts.image import GramianAngularField"
   ]
  },
  {
   "cell_type": "markdown",
   "metadata": {},
   "source": [
    "### APPLE"
   ]
  },
  {
   "cell_type": "code",
   "execution_count": 66,
   "metadata": {
    "scrolled": true
   },
   "outputs": [],
   "source": [
    "df =  pd.read_csv(\"AAPL.csv\")\n",
    "df['Date'] = pd.to_datetime(df['Date'],dayfirst=True)\n",
    "df.set_index('Date',inplace=True)\n",
    "df.dropna(axis=0,inplace=True)\n",
    "df = df['2010':'2018']\n",
    "df2 = pd.DataFrame(df['Close'])\n",
    "df2['Close'] = sc.savgol_filter(df2['Close'], 31, 3)\n",
    "\n",
    "df2['WMA_20'] = talib.WMA(df2['Close'],timeperiod=20)\n",
    "df2['WMA_25'] = talib.WMA(df2['Close'],timeperiod=25)\n",
    "df2['WMA_30'] = talib.WMA(df2['Close'],timeperiod=30)\n",
    "df2['WMA_35'] = talib.WMA(df2['Close'],timeperiod=35)\n",
    "\n",
    "\n",
    "df2 = df2.drop(['Close'],axis=1)\n",
    "\n",
    "df2 = df2['2012-06-01':'2019']\n",
    "df3 = df2.reset_index()\n",
    "df_APPL = df3.drop(columns=\"Date\")"
   ]
  },
  {
   "cell_type": "code",
   "execution_count": 68,
   "metadata": {},
   "outputs": [
    {
     "data": {
      "text/plain": [
       "1656"
      ]
     },
     "execution_count": 68,
     "metadata": {},
     "output_type": "execute_result"
    }
   ],
   "source": [
    "len(df_APPL)"
   ]
  },
  {
   "cell_type": "markdown",
   "metadata": {},
   "source": [
    "### Boeing"
   ]
  },
  {
   "cell_type": "code",
   "execution_count": 31,
   "metadata": {},
   "outputs": [],
   "source": [
    "df =  pd.read_csv(\"BA.csv\")\n",
    "df['Date'] = pd.to_datetime(df['Date'],dayfirst=True)\n",
    "df.set_index('Date',inplace=True)\n",
    "df.dropna(axis=0,inplace=True)\n",
    "df = df['2010':'2018']\n",
    "df2 = pd.DataFrame(df['Close'])\n",
    "df2['Close'] = sc.savgol_filter(df2['Close'], 31, 3)\n",
    "\n",
    "df2['WMA_20'] = talib.WMA(df2['Close'],timeperiod=20)\n",
    "df2['WMA_25'] = talib.WMA(df2['Close'],timeperiod=25)\n",
    "df2['WMA_30'] = talib.WMA(df2['Close'],timeperiod=30)\n",
    "df2['WMA_35'] = talib.WMA(df2['Close'],timeperiod=35)\n",
    "\n",
    "\n",
    "df2 = df2.drop(['Close'],axis=1)\n",
    "\n",
    "df2 = df2['2012-06-01':'2019']\n",
    "df3 = df2.reset_index()\n",
    "df_BA = df3.drop(columns=\"Date\")\n",
    "df_BA = df_BA[34:]"
   ]
  },
  {
   "cell_type": "code",
   "execution_count": 42,
   "metadata": {},
   "outputs": [
    {
     "data": {
      "text/plain": [
       "693"
      ]
     },
     "execution_count": 42,
     "metadata": {},
     "output_type": "execute_result"
    }
   ],
   "source": [
    "len(df_BA)"
   ]
  },
  {
   "cell_type": "markdown",
   "metadata": {},
   "source": [
    "### Disney"
   ]
  },
  {
   "cell_type": "code",
   "execution_count": 34,
   "metadata": {},
   "outputs": [],
   "source": [
    "df =  pd.read_csv(\"DIS.csv\")\n",
    "df['Date'] = pd.to_datetime(df['Date'],dayfirst=True)\n",
    "df.set_index('Date',inplace=True)\n",
    "df.dropna(axis=0,inplace=True)\n",
    "df = df['2010':'2018']\n",
    "df2 = pd.DataFrame(df['Close'])\n",
    "df2['Close'] = sc.savgol_filter(df2['Close'], 31, 3)\n",
    "\n",
    "df2['WMA_20'] = talib.WMA(df2['Close'],timeperiod=20)\n",
    "df2['WMA_25'] = talib.WMA(df2['Close'],timeperiod=25)\n",
    "df2['WMA_30'] = talib.WMA(df2['Close'],timeperiod=30)\n",
    "df2['WMA_35'] = talib.WMA(df2['Close'],timeperiod=35)\n",
    "\n",
    "\n",
    "df2 = df2.drop(['Close'],axis=1)\n",
    "\n",
    "df2 = df2['2012-06-29':'2019']\n",
    "df3 = df2.reset_index()\n",
    "df_DIS = df3.drop(columns=\"Date\")\n",
    "df_DIS = df_DIS[34:]"
   ]
  },
  {
   "cell_type": "markdown",
   "metadata": {},
   "source": [
    "### Facebook"
   ]
  },
  {
   "cell_type": "code",
   "execution_count": 73,
   "metadata": {},
   "outputs": [],
   "source": [
    "df =  pd.read_csv(\"Data/FB.csv\")\n",
    "df['Date'] = pd.to_datetime(df['Date'],dayfirst=True)\n",
    "df.set_index('Date',inplace=True)\n",
    "df.dropna(axis=0,inplace=True)\n",
    "df = df['2010':'2018']\n",
    "df2 = pd.DataFrame(df['Close'])\n",
    "df2['Close'] = sc.savgol_filter(df2['Close'], 31, 3)\n",
    "\n",
    "df2['WMA_20'] = talib.WMA(df2['Close'],timeperiod=20)\n",
    "df2['WMA_25'] = talib.WMA(df2['Close'],timeperiod=25)\n",
    "df2['WMA_30'] = talib.WMA(df2['Close'],timeperiod=30)\n",
    "df2['WMA_35'] = talib.WMA(df2['Close'],timeperiod=35)\n",
    "\n",
    "\n",
    "df2 = df2.drop(['Close'],axis=1)\n",
    "\n",
    "df2 = df2['2012-06-29':'2019']\n",
    "df3 = df2.reset_index()\n",
    "df_FB = df3.drop(columns=\"Date\")\n",
    "df_FB = df_FB[34:]"
   ]
  },
  {
   "cell_type": "markdown",
   "metadata": {},
   "source": [
    "### Google"
   ]
  },
  {
   "cell_type": "code",
   "execution_count": 74,
   "metadata": {},
   "outputs": [],
   "source": [
    "df =  pd.read_csv(\"Data/GOOG.csv\")\n",
    "df['Date'] = pd.to_datetime(df['Date'],dayfirst=True)\n",
    "df.set_index('Date',inplace=True)\n",
    "df.dropna(axis=0,inplace=True)\n",
    "df = df['2010':'2018']\n",
    "df2 = pd.DataFrame(df['Close'])\n",
    "df2['Close'] = sc.savgol_filter(df2['Close'], 31, 3)\n",
    "\n",
    "df2['WMA_20'] = talib.WMA(df2['Close'],timeperiod=20)\n",
    "df2['WMA_25'] = talib.WMA(df2['Close'],timeperiod=25)\n",
    "df2['WMA_30'] = talib.WMA(df2['Close'],timeperiod=30)\n",
    "df2['WMA_35'] = talib.WMA(df2['Close'],timeperiod=35)\n",
    "\n",
    "\n",
    "df2 = df2.drop(['Close'],axis=1)\n",
    "\n",
    "df2 = df2['2012-06-29':'2019']\n",
    "df3 = df2.reset_index()\n",
    "df_GOOG = df3.drop(columns=\"Date\")\n",
    "df_GOOG = df_GOOG[34:]"
   ]
  },
  {
   "cell_type": "markdown",
   "metadata": {},
   "source": [
    "### Netflix"
   ]
  },
  {
   "cell_type": "code",
   "execution_count": 75,
   "metadata": {},
   "outputs": [],
   "source": [
    "df =  pd.read_csv(\"Data/NFLX.csv\")\n",
    "df['Date'] = pd.to_datetime(df['Date'],dayfirst=True)\n",
    "df.set_index('Date',inplace=True)\n",
    "df.dropna(axis=0,inplace=True)\n",
    "df = df['2010':'2018']\n",
    "df2 = pd.DataFrame(df['Close'])\n",
    "df2['Close'] = sc.savgol_filter(df2['Close'], 31, 3)\n",
    "\n",
    "df2['WMA_20'] = talib.WMA(df2['Close'],timeperiod=20)\n",
    "df2['WMA_25'] = talib.WMA(df2['Close'],timeperiod=25)\n",
    "df2['WMA_30'] = talib.WMA(df2['Close'],timeperiod=30)\n",
    "df2['WMA_35'] = talib.WMA(df2['Close'],timeperiod=35)\n",
    "\n",
    "\n",
    "df2 = df2.drop(['Close'],axis=1)\n",
    "\n",
    "df2 = df2['2012-06-29':'2019']\n",
    "df3 = df2.reset_index()\n",
    "df_NFLX = df3.drop(columns=\"Date\")\n",
    "df_NFLX = df_NFLX[34:]"
   ]
  },
  {
   "cell_type": "markdown",
   "metadata": {},
   "source": [
    "### Generate Images"
   ]
  },
  {
   "cell_type": "code",
   "execution_count": 95,
   "metadata": {},
   "outputs": [],
   "source": [
    "def image_create(df):\n",
    "    window_size = 150\n",
    "    window_end = len(df) - window_size\n",
    "    window_curr = 0\n",
    "    i=0\n",
    "    while window_curr + window_size <= window_end:\n",
    "        fig, ax = plt.subplots()\n",
    "        ax.plot(df[window_curr:window_curr+window_size])\n",
    "        ax.axvline(window_curr+75)\n",
    "        ax.set_axis_off()\n",
    "        fig.savefig(\"Market_images/BA_{}.png\".format(window_curr), bbox_inches='tight')\n",
    "        plt.close()\n",
    "        window_curr += 5\n",
    "        print('Generating image {}'.format(i))\n",
    "        i+=1\n",
    "        "
   ]
  },
  {
   "cell_type": "code",
   "execution_count": 86,
   "metadata": {
    "scrolled": true
   },
   "outputs": [
    {
     "name": "stdout",
     "output_type": "stream",
     "text": [
      "Generating image 0\n",
      "Generating image 1\n",
      "Generating image 2\n",
      "Generating image 3\n",
      "Generating image 4\n",
      "Generating image 5\n",
      "Generating image 6\n",
      "Generating image 7\n",
      "Generating image 8\n",
      "Generating image 9\n",
      "Generating image 10\n",
      "Generating image 11\n",
      "Generating image 12\n",
      "Generating image 13\n",
      "Generating image 14\n",
      "Generating image 15\n",
      "Generating image 16\n",
      "Generating image 17\n",
      "Generating image 18\n",
      "Generating image 19\n",
      "Generating image 20\n",
      "Generating image 21\n",
      "Generating image 22\n",
      "Generating image 23\n",
      "Generating image 24\n",
      "Generating image 25\n",
      "Generating image 26\n",
      "Generating image 27\n",
      "Generating image 28\n",
      "Generating image 29\n",
      "Generating image 30\n",
      "Generating image 31\n",
      "Generating image 32\n",
      "Generating image 33\n",
      "Generating image 34\n",
      "Generating image 35\n",
      "Generating image 36\n",
      "Generating image 37\n",
      "Generating image 38\n",
      "Generating image 39\n",
      "Generating image 40\n",
      "Generating image 41\n",
      "Generating image 42\n",
      "Generating image 43\n",
      "Generating image 44\n",
      "Generating image 45\n",
      "Generating image 46\n",
      "Generating image 47\n",
      "Generating image 48\n",
      "Generating image 49\n",
      "Generating image 50\n",
      "Generating image 51\n",
      "Generating image 52\n",
      "Generating image 53\n",
      "Generating image 54\n",
      "Generating image 55\n",
      "Generating image 56\n",
      "Generating image 57\n",
      "Generating image 58\n",
      "Generating image 59\n",
      "Generating image 60\n",
      "Generating image 61\n",
      "Generating image 62\n",
      "Generating image 63\n",
      "Generating image 64\n",
      "Generating image 65\n",
      "Generating image 66\n",
      "Generating image 67\n",
      "Generating image 68\n",
      "Generating image 69\n",
      "Generating image 70\n",
      "Generating image 71\n",
      "Generating image 72\n",
      "Generating image 73\n",
      "Generating image 74\n",
      "Generating image 75\n",
      "Generating image 76\n",
      "Generating image 77\n",
      "Generating image 78\n"
     ]
    }
   ],
   "source": [
    "image_create(df_BA)"
   ]
  },
  {
   "cell_type": "markdown",
   "metadata": {},
   "source": [
    "### Crop RHS of vline and convert to gramian"
   ]
  },
  {
   "cell_type": "code",
   "execution_count": 129,
   "metadata": {},
   "outputs": [],
   "source": [
    "def image_create_gramian(df):\n",
    "    window_size = 150\n",
    "    window_end = len(df) - window_size\n",
    "    window_curr = 0\n",
    "    while window_curr + window_size <= window_end:\n",
    "        fig, ax = plt.subplots()\n",
    "        df_window = df[window_curr:window_curr+(window_size-100)]\n",
    "        df_window_T = df_window.T\n",
    "        \n",
    "        gasf = GramianAngularField(image_size=50, method='difference')\n",
    "        X_gasf = gasf.fit_transform(df_window_T)\n",
    "        ax.set_axis_off()\n",
    "        ax.imshow(X_gasf[0], cmap='rainbow', origin='lower')\n",
    "\n",
    "        if os.path.isfile('Market_images/Buy/GOOG_{}.png'.format(window_curr)):\n",
    "            fig.savefig(\"Gramians/Buy/GOOG_{}.png\".format(window_curr), bbox_inches='tight')\n",
    "        else:\n",
    "            fig.savefig(\"Gramians/Sell/GOOG_{}.png\".format(window_curr), bbox_inches='tight')\n",
    "            \n",
    "        \n",
    "        \n",
    "        plt.close()\n",
    "        window_curr += 5\n",
    "        print('Generating gramian {}'.format(window_curr))\n",
    "    "
   ]
  },
  {
   "cell_type": "code",
   "execution_count": 130,
   "metadata": {},
   "outputs": [
    {
     "name": "stdout",
     "output_type": "stream",
     "text": [
      "Generating gramian 5\n",
      "Generating gramian 10\n",
      "Generating gramian 15\n",
      "Generating gramian 20\n",
      "Generating gramian 25\n",
      "Generating gramian 30\n",
      "Generating gramian 35\n",
      "Generating gramian 40\n",
      "Generating gramian 45\n",
      "Generating gramian 50\n",
      "Generating gramian 55\n",
      "Generating gramian 60\n",
      "Generating gramian 65\n",
      "Generating gramian 70\n",
      "Generating gramian 75\n",
      "Generating gramian 80\n",
      "Generating gramian 85\n",
      "Generating gramian 90\n",
      "Generating gramian 95\n",
      "Generating gramian 100\n",
      "Generating gramian 105\n",
      "Generating gramian 110\n",
      "Generating gramian 115\n",
      "Generating gramian 120\n",
      "Generating gramian 125\n",
      "Generating gramian 130\n",
      "Generating gramian 135\n",
      "Generating gramian 140\n",
      "Generating gramian 145\n",
      "Generating gramian 150\n",
      "Generating gramian 155\n",
      "Generating gramian 160\n",
      "Generating gramian 165\n",
      "Generating gramian 170\n",
      "Generating gramian 175\n",
      "Generating gramian 180\n",
      "Generating gramian 185\n",
      "Generating gramian 190\n",
      "Generating gramian 195\n",
      "Generating gramian 200\n",
      "Generating gramian 205\n",
      "Generating gramian 210\n",
      "Generating gramian 215\n",
      "Generating gramian 220\n",
      "Generating gramian 225\n",
      "Generating gramian 230\n",
      "Generating gramian 235\n",
      "Generating gramian 240\n",
      "Generating gramian 245\n",
      "Generating gramian 250\n",
      "Generating gramian 255\n",
      "Generating gramian 260\n",
      "Generating gramian 265\n",
      "Generating gramian 270\n",
      "Generating gramian 275\n",
      "Generating gramian 280\n",
      "Generating gramian 285\n",
      "Generating gramian 290\n",
      "Generating gramian 295\n",
      "Generating gramian 300\n",
      "Generating gramian 305\n",
      "Generating gramian 310\n",
      "Generating gramian 315\n",
      "Generating gramian 320\n",
      "Generating gramian 325\n",
      "Generating gramian 330\n",
      "Generating gramian 335\n",
      "Generating gramian 340\n",
      "Generating gramian 345\n",
      "Generating gramian 350\n",
      "Generating gramian 355\n",
      "Generating gramian 360\n",
      "Generating gramian 365\n",
      "Generating gramian 370\n",
      "Generating gramian 375\n",
      "Generating gramian 380\n",
      "Generating gramian 385\n",
      "Generating gramian 390\n",
      "Generating gramian 395\n"
     ]
    }
   ],
   "source": [
    "image_create_gramian(df_GOOG)"
   ]
  },
  {
   "cell_type": "code",
   "execution_count": null,
   "metadata": {},
   "outputs": [],
   "source": []
  }
 ],
 "metadata": {
  "kernelspec": {
   "display_name": "Python 3",
   "language": "python",
   "name": "python3"
  },
  "language_info": {
   "codemirror_mode": {
    "name": "ipython",
    "version": 3
   },
   "file_extension": ".py",
   "mimetype": "text/x-python",
   "name": "python",
   "nbconvert_exporter": "python",
   "pygments_lexer": "ipython3",
   "version": "3.7.6"
  }
 },
 "nbformat": 4,
 "nbformat_minor": 2
}
