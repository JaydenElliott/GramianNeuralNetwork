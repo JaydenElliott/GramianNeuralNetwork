{
 "cells": [
  {
   "cell_type": "code",
   "execution_count": 1,
   "metadata": {},
   "outputs": [],
   "source": [
    "import numpy as np\n",
    "import matplotlib.pyplot as plt\n",
    "import pandas as pd\n",
    "import matplotlib.pyplot as plt\n",
    "import scipy.signal as sc\n",
    "\n",
    "import talib\n",
    "from talib import SMA\n",
    "\n",
    "\n",
    "import matplotlib.pyplot as plt\n",
    "from mpl_toolkits.axes_grid1 import ImageGrid\n",
    "from pyts.image import GramianAngularField\n",
    "\n",
    "import tensorflow as tf\n",
    "\n",
    "import os, os.path\n",
    "\n",
    "from PIL import Image\n",
    "import shutil\n",
    "\n",
    "img_dir = 'images_to_feed'"
   ]
  },
  {
   "cell_type": "code",
   "execution_count": 3,
   "metadata": {},
   "outputs": [],
   "source": [
    "df =  pd.read_csv(\"with_labels.csv\")\n",
    "np_df = df.to_numpy()"
   ]
  },
  {
   "cell_type": "code",
   "execution_count": 14,
   "metadata": {},
   "outputs": [],
   "source": [
    "def move(dest,file):\n",
    "    shutil.move('Gramians/{}'.format(file),'Training_data/{}/{}'.format(dest,file))"
   ]
  },
  {
   "cell_type": "code",
   "execution_count": 15,
   "metadata": {},
   "outputs": [],
   "source": [
    "file_dir = [[sub_list[1],sub_list[2]] for sub_list in np_df]\n",
    "label_column = [sub_list[2] for sub_list in np_df]\n",
    "\n",
    "dirpath_buy = 'Buy'\n",
    "dirpath_sell = 'Sell'\n",
    "dirpath_hold = 'Hold'"
   ]
  },
  {
   "cell_type": "code",
   "execution_count": 16,
   "metadata": {},
   "outputs": [],
   "source": [
    "for i in file_dir:\n",
    "    if i[1] == 'Hold':\n",
    "        move(dirpath_buy,i[0])\n",
    "    elif i[1] == 'Sell':\n",
    "        move(dirpath_sell,i[0])\n",
    "    elif i[1] == 'Buy':\n",
    "        move(dirpath_hold,i[0])"
   ]
  }
 ],
 "metadata": {
  "kernelspec": {
   "display_name": "Python 3",
   "language": "python",
   "name": "python3"
  },
  "language_info": {
   "codemirror_mode": {
    "name": "ipython",
    "version": 3
   },
   "file_extension": ".py",
   "mimetype": "text/x-python",
   "name": "python",
   "nbconvert_exporter": "python",
   "pygments_lexer": "ipython3",
   "version": "3.8.3"
  }
 },
 "nbformat": 4,
 "nbformat_minor": 2
}
